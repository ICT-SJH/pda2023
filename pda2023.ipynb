{
  "nbformat": 4,
  "nbformat_minor": 0,
  "metadata": {
    "colab": {
      "provenance": [],
      "collapsed_sections": [
        "S5cJaJ4jZv9G",
        "JMu8DMZdKheN",
        "4KKYmmt3KwpA",
        "c-wUT56KvxY3",
        "fDziM8PWLO8l",
        "-emWu2ANLXqX"
      ]
    },
    "kernelspec": {
      "name": "python3",
      "display_name": "Python 3"
    },
    "language_info": {
      "name": "python"
    }
  },
  "cells": [
    {
      "cell_type": "markdown",
      "source": [
        "파이썬데이터분석<br>\n",
        "소프트웨어응용학부 202004063 서준하, 산업데이터사이언스학부 202084051 김동현"
      ],
      "metadata": {
        "id": "LNHjXOdlkInz"
      }
    },
    {
      "cell_type": "markdown",
      "source": [
        "# 분석 과정 및 결과"
      ],
      "metadata": {
        "id": "Yqw-SZZSkVuw"
      }
    },
    {
      "cell_type": "markdown",
      "source": [
        "## 폰트 설치, 모듈 임포트\n",
        "font install, module import"
      ],
      "metadata": {
        "id": "S5cJaJ4jZv9G"
      }
    },
    {
      "cell_type": "code",
      "source": [
        "!apt-get update -qq\n",
        "!apt-get install fonts-nanum* -qq\n",
        "\n",
        "!sudo apt-get install -y fonts-nanum\n",
        "!sudo fc-cache -fv\n",
        "!rm ~/.cache/matplotlib -rf"
      ],
      "metadata": {
        "colab": {
          "base_uri": "https://localhost:8080/"
        },
        "id": "9KpmnozQjAze",
        "outputId": "04c13249-3e20-4ffd-c8c2-3614f37c9e72"
      },
      "execution_count": 1,
      "outputs": [
        {
          "output_type": "stream",
          "name": "stdout",
          "text": [
            "Reading package lists... Done\n",
            "Building dependency tree       \n",
            "Reading state information... Done\n",
            "fonts-nanum is already the newest version (20180306-3).\n",
            "0 upgraded, 0 newly installed, 0 to remove and 38 not upgraded.\n",
            "/usr/share/fonts: caching, new cache contents: 0 fonts, 1 dirs\n",
            "/usr/share/fonts/truetype: caching, new cache contents: 0 fonts, 3 dirs\n",
            "/usr/share/fonts/truetype/humor-sans: caching, new cache contents: 1 fonts, 0 dirs\n",
            "/usr/share/fonts/truetype/liberation: caching, new cache contents: 16 fonts, 0 dirs\n",
            "/usr/share/fonts/truetype/nanum: caching, new cache contents: 31 fonts, 0 dirs\n",
            "/usr/local/share/fonts: caching, new cache contents: 0 fonts, 0 dirs\n",
            "/root/.local/share/fonts: skipping, no such directory\n",
            "/root/.fonts: skipping, no such directory\n",
            "/usr/share/fonts/truetype: skipping, looped directory detected\n",
            "/usr/share/fonts/truetype/humor-sans: skipping, looped directory detected\n",
            "/usr/share/fonts/truetype/liberation: skipping, looped directory detected\n",
            "/usr/share/fonts/truetype/nanum: skipping, looped directory detected\n",
            "/var/cache/fontconfig: cleaning cache directory\n",
            "/root/.cache/fontconfig: not cleaning non-existent cache directory\n",
            "/root/.fontconfig: not cleaning non-existent cache directory\n",
            "fc-cache: succeeded\n"
          ]
        }
      ]
    },
    {
      "cell_type": "code",
      "execution_count": 2,
      "metadata": {
        "id": "TWjvI2RhZs4F"
      },
      "outputs": [],
      "source": [
        "import pandas as pd\n",
        "import numpy as np\n",
        "import matplotlib.pyplot as plt\n",
        "import seaborn as sns\n",
        "\n",
        "plt.rc('font', family='NanumGothic')"
      ]
    },
    {
      "cell_type": "markdown",
      "source": [
        "## 지역내총생산(df1) 불러오기 및 데이터 정리"
      ],
      "metadata": {
        "id": "JMu8DMZdKheN"
      }
    },
    {
      "cell_type": "markdown",
      "source": [
        "지역내총생산(df1) 불러오기"
      ],
      "metadata": {
        "id": "z_qe--CvbIJc"
      }
    },
    {
      "cell_type": "code",
      "source": [
        "df1 = pd.read_csv(\"/content/자치구별+지역내총생산(2015년+기준)_20230527222246.csv\" , encoding='utf-8')"
      ],
      "metadata": {
        "id": "3rQkd3eJa6ma"
      },
      "execution_count": 3,
      "outputs": []
    },
    {
      "cell_type": "markdown",
      "source": [
        "지역내총생산(df1) 읽기 테스트"
      ],
      "metadata": {
        "id": "K1T5qL2LbYjx"
      }
    },
    {
      "cell_type": "code",
      "source": [
        "df1.head()"
      ],
      "metadata": {
        "colab": {
          "base_uri": "https://localhost:8080/",
          "height": 577
        },
        "id": "sIejBLXRa-E0",
        "outputId": "d2f5d41d-5b3f-432d-f985-61103963a963"
      },
      "execution_count": 4,
      "outputs": [
        {
          "output_type": "execute_result",
          "data": {
            "text/plain": [
              "   자치구별(1)  자치구별(2)                 2010   2010.1  \\\n",
              "0  자치구별(1)  자치구별(2)  지역내총생산(당해년가격) (백만원)  구성비 (%)   \n",
              "1      서울시       소계            313281033    100.0   \n",
              "2      서울시      종로구             25368342      8.1   \n",
              "3      서울시       중구             50231606     16.0   \n",
              "4      서울시      용산구              9458938      3.0   \n",
              "\n",
              "                         2010.2        2010.3                 2011   2011.1  \\\n",
              "0  지역내총생산(2015년 기준년 연쇄가격) (백만원)  전년대비 증감률 (%)  지역내총생산(당해년가격) (백만원)  구성비 (%)   \n",
              "1                     333249300           ...            326415107    100.0   \n",
              "2                      25907762           ...             26475253      8.1   \n",
              "3                      48809258           ...             49984232     15.3   \n",
              "4                      10450306           ...              9708239      3.0   \n",
              "\n",
              "                         2011.2        2011.3  ...  \\\n",
              "0  지역내총생산(2015년 기준년 연쇄가격) (백만원)  전년대비 증감률 (%)  ...   \n",
              "1                     343756313           3.2  ...   \n",
              "2                      26676515           3.0  ...   \n",
              "3                      48050486          -1.6  ...   \n",
              "4                      10577186           1.2  ...   \n",
              "\n",
              "                         2018.2        2018.3                 2019   2019.1  \\\n",
              "0  지역내총생산(2015년 기준년 연쇄가격) (백만원)  전년대비 증감률 (%)  지역내총생산(당해년가격) (백만원)  구성비 (%)   \n",
              "1                     403605888           3.6            435927212    100.0   \n",
              "2                      30424283           0.3             33780610      7.7   \n",
              "3                      52384539           4.8             53823217     12.3   \n",
              "4                      11664441           3.7             12695516      2.9   \n",
              "\n",
              "                         2019.2        2019.3                 2020   2020.1  \\\n",
              "0  지역내총생산(2015년 기준년 연쇄가격) (백만원)  전년대비 증감률 (%)  지역내총생산(당해년가격) (백만원)  구성비 (%)   \n",
              "1                     414092568           2.6            444544909    100.0   \n",
              "2                      32427863           6.6             33893980      7.6   \n",
              "3                      52869673           0.9             56070505     12.6   \n",
              "4                      11992461           2.8             12824348      2.9   \n",
              "\n",
              "                         2020.2        2020.3  \n",
              "0  지역내총생산(2015년 기준년 연쇄가격) (백만원)  전년대비 증감률 (%)  \n",
              "1                     417638547           0.9  \n",
              "2                      32402925          -0.1  \n",
              "3                      55620185           5.2  \n",
              "4                      11995022           0.0  \n",
              "\n",
              "[5 rows x 46 columns]"
            ],
            "text/html": [
              "\n",
              "  <div id=\"df-e3159b80-d1b2-4597-92b9-093b52e633b5\">\n",
              "    <div class=\"colab-df-container\">\n",
              "      <div>\n",
              "<style scoped>\n",
              "    .dataframe tbody tr th:only-of-type {\n",
              "        vertical-align: middle;\n",
              "    }\n",
              "\n",
              "    .dataframe tbody tr th {\n",
              "        vertical-align: top;\n",
              "    }\n",
              "\n",
              "    .dataframe thead th {\n",
              "        text-align: right;\n",
              "    }\n",
              "</style>\n",
              "<table border=\"1\" class=\"dataframe\">\n",
              "  <thead>\n",
              "    <tr style=\"text-align: right;\">\n",
              "      <th></th>\n",
              "      <th>자치구별(1)</th>\n",
              "      <th>자치구별(2)</th>\n",
              "      <th>2010</th>\n",
              "      <th>2010.1</th>\n",
              "      <th>2010.2</th>\n",
              "      <th>2010.3</th>\n",
              "      <th>2011</th>\n",
              "      <th>2011.1</th>\n",
              "      <th>2011.2</th>\n",
              "      <th>2011.3</th>\n",
              "      <th>...</th>\n",
              "      <th>2018.2</th>\n",
              "      <th>2018.3</th>\n",
              "      <th>2019</th>\n",
              "      <th>2019.1</th>\n",
              "      <th>2019.2</th>\n",
              "      <th>2019.3</th>\n",
              "      <th>2020</th>\n",
              "      <th>2020.1</th>\n",
              "      <th>2020.2</th>\n",
              "      <th>2020.3</th>\n",
              "    </tr>\n",
              "  </thead>\n",
              "  <tbody>\n",
              "    <tr>\n",
              "      <th>0</th>\n",
              "      <td>자치구별(1)</td>\n",
              "      <td>자치구별(2)</td>\n",
              "      <td>지역내총생산(당해년가격) (백만원)</td>\n",
              "      <td>구성비 (%)</td>\n",
              "      <td>지역내총생산(2015년 기준년 연쇄가격) (백만원)</td>\n",
              "      <td>전년대비 증감률 (%)</td>\n",
              "      <td>지역내총생산(당해년가격) (백만원)</td>\n",
              "      <td>구성비 (%)</td>\n",
              "      <td>지역내총생산(2015년 기준년 연쇄가격) (백만원)</td>\n",
              "      <td>전년대비 증감률 (%)</td>\n",
              "      <td>...</td>\n",
              "      <td>지역내총생산(2015년 기준년 연쇄가격) (백만원)</td>\n",
              "      <td>전년대비 증감률 (%)</td>\n",
              "      <td>지역내총생산(당해년가격) (백만원)</td>\n",
              "      <td>구성비 (%)</td>\n",
              "      <td>지역내총생산(2015년 기준년 연쇄가격) (백만원)</td>\n",
              "      <td>전년대비 증감률 (%)</td>\n",
              "      <td>지역내총생산(당해년가격) (백만원)</td>\n",
              "      <td>구성비 (%)</td>\n",
              "      <td>지역내총생산(2015년 기준년 연쇄가격) (백만원)</td>\n",
              "      <td>전년대비 증감률 (%)</td>\n",
              "    </tr>\n",
              "    <tr>\n",
              "      <th>1</th>\n",
              "      <td>서울시</td>\n",
              "      <td>소계</td>\n",
              "      <td>313281033</td>\n",
              "      <td>100.0</td>\n",
              "      <td>333249300</td>\n",
              "      <td>...</td>\n",
              "      <td>326415107</td>\n",
              "      <td>100.0</td>\n",
              "      <td>343756313</td>\n",
              "      <td>3.2</td>\n",
              "      <td>...</td>\n",
              "      <td>403605888</td>\n",
              "      <td>3.6</td>\n",
              "      <td>435927212</td>\n",
              "      <td>100.0</td>\n",
              "      <td>414092568</td>\n",
              "      <td>2.6</td>\n",
              "      <td>444544909</td>\n",
              "      <td>100.0</td>\n",
              "      <td>417638547</td>\n",
              "      <td>0.9</td>\n",
              "    </tr>\n",
              "    <tr>\n",
              "      <th>2</th>\n",
              "      <td>서울시</td>\n",
              "      <td>종로구</td>\n",
              "      <td>25368342</td>\n",
              "      <td>8.1</td>\n",
              "      <td>25907762</td>\n",
              "      <td>...</td>\n",
              "      <td>26475253</td>\n",
              "      <td>8.1</td>\n",
              "      <td>26676515</td>\n",
              "      <td>3.0</td>\n",
              "      <td>...</td>\n",
              "      <td>30424283</td>\n",
              "      <td>0.3</td>\n",
              "      <td>33780610</td>\n",
              "      <td>7.7</td>\n",
              "      <td>32427863</td>\n",
              "      <td>6.6</td>\n",
              "      <td>33893980</td>\n",
              "      <td>7.6</td>\n",
              "      <td>32402925</td>\n",
              "      <td>-0.1</td>\n",
              "    </tr>\n",
              "    <tr>\n",
              "      <th>3</th>\n",
              "      <td>서울시</td>\n",
              "      <td>중구</td>\n",
              "      <td>50231606</td>\n",
              "      <td>16.0</td>\n",
              "      <td>48809258</td>\n",
              "      <td>...</td>\n",
              "      <td>49984232</td>\n",
              "      <td>15.3</td>\n",
              "      <td>48050486</td>\n",
              "      <td>-1.6</td>\n",
              "      <td>...</td>\n",
              "      <td>52384539</td>\n",
              "      <td>4.8</td>\n",
              "      <td>53823217</td>\n",
              "      <td>12.3</td>\n",
              "      <td>52869673</td>\n",
              "      <td>0.9</td>\n",
              "      <td>56070505</td>\n",
              "      <td>12.6</td>\n",
              "      <td>55620185</td>\n",
              "      <td>5.2</td>\n",
              "    </tr>\n",
              "    <tr>\n",
              "      <th>4</th>\n",
              "      <td>서울시</td>\n",
              "      <td>용산구</td>\n",
              "      <td>9458938</td>\n",
              "      <td>3.0</td>\n",
              "      <td>10450306</td>\n",
              "      <td>...</td>\n",
              "      <td>9708239</td>\n",
              "      <td>3.0</td>\n",
              "      <td>10577186</td>\n",
              "      <td>1.2</td>\n",
              "      <td>...</td>\n",
              "      <td>11664441</td>\n",
              "      <td>3.7</td>\n",
              "      <td>12695516</td>\n",
              "      <td>2.9</td>\n",
              "      <td>11992461</td>\n",
              "      <td>2.8</td>\n",
              "      <td>12824348</td>\n",
              "      <td>2.9</td>\n",
              "      <td>11995022</td>\n",
              "      <td>0.0</td>\n",
              "    </tr>\n",
              "  </tbody>\n",
              "</table>\n",
              "<p>5 rows × 46 columns</p>\n",
              "</div>\n",
              "      <button class=\"colab-df-convert\" onclick=\"convertToInteractive('df-e3159b80-d1b2-4597-92b9-093b52e633b5')\"\n",
              "              title=\"Convert this dataframe to an interactive table.\"\n",
              "              style=\"display:none;\">\n",
              "        \n",
              "  <svg xmlns=\"http://www.w3.org/2000/svg\" height=\"24px\"viewBox=\"0 0 24 24\"\n",
              "       width=\"24px\">\n",
              "    <path d=\"M0 0h24v24H0V0z\" fill=\"none\"/>\n",
              "    <path d=\"M18.56 5.44l.94 2.06.94-2.06 2.06-.94-2.06-.94-.94-2.06-.94 2.06-2.06.94zm-11 1L8.5 8.5l.94-2.06 2.06-.94-2.06-.94L8.5 2.5l-.94 2.06-2.06.94zm10 10l.94 2.06.94-2.06 2.06-.94-2.06-.94-.94-2.06-.94 2.06-2.06.94z\"/><path d=\"M17.41 7.96l-1.37-1.37c-.4-.4-.92-.59-1.43-.59-.52 0-1.04.2-1.43.59L10.3 9.45l-7.72 7.72c-.78.78-.78 2.05 0 2.83L4 21.41c.39.39.9.59 1.41.59.51 0 1.02-.2 1.41-.59l7.78-7.78 2.81-2.81c.8-.78.8-2.07 0-2.86zM5.41 20L4 18.59l7.72-7.72 1.47 1.35L5.41 20z\"/>\n",
              "  </svg>\n",
              "      </button>\n",
              "      \n",
              "  <style>\n",
              "    .colab-df-container {\n",
              "      display:flex;\n",
              "      flex-wrap:wrap;\n",
              "      gap: 12px;\n",
              "    }\n",
              "\n",
              "    .colab-df-convert {\n",
              "      background-color: #E8F0FE;\n",
              "      border: none;\n",
              "      border-radius: 50%;\n",
              "      cursor: pointer;\n",
              "      display: none;\n",
              "      fill: #1967D2;\n",
              "      height: 32px;\n",
              "      padding: 0 0 0 0;\n",
              "      width: 32px;\n",
              "    }\n",
              "\n",
              "    .colab-df-convert:hover {\n",
              "      background-color: #E2EBFA;\n",
              "      box-shadow: 0px 1px 2px rgba(60, 64, 67, 0.3), 0px 1px 3px 1px rgba(60, 64, 67, 0.15);\n",
              "      fill: #174EA6;\n",
              "    }\n",
              "\n",
              "    [theme=dark] .colab-df-convert {\n",
              "      background-color: #3B4455;\n",
              "      fill: #D2E3FC;\n",
              "    }\n",
              "\n",
              "    [theme=dark] .colab-df-convert:hover {\n",
              "      background-color: #434B5C;\n",
              "      box-shadow: 0px 1px 3px 1px rgba(0, 0, 0, 0.15);\n",
              "      filter: drop-shadow(0px 1px 2px rgba(0, 0, 0, 0.3));\n",
              "      fill: #FFFFFF;\n",
              "    }\n",
              "  </style>\n",
              "\n",
              "      <script>\n",
              "        const buttonEl =\n",
              "          document.querySelector('#df-e3159b80-d1b2-4597-92b9-093b52e633b5 button.colab-df-convert');\n",
              "        buttonEl.style.display =\n",
              "          google.colab.kernel.accessAllowed ? 'block' : 'none';\n",
              "\n",
              "        async function convertToInteractive(key) {\n",
              "          const element = document.querySelector('#df-e3159b80-d1b2-4597-92b9-093b52e633b5');\n",
              "          const dataTable =\n",
              "            await google.colab.kernel.invokeFunction('convertToInteractive',\n",
              "                                                     [key], {});\n",
              "          if (!dataTable) return;\n",
              "\n",
              "          const docLinkHtml = 'Like what you see? Visit the ' +\n",
              "            '<a target=\"_blank\" href=https://colab.research.google.com/notebooks/data_table.ipynb>data table notebook</a>'\n",
              "            + ' to learn more about interactive tables.';\n",
              "          element.innerHTML = '';\n",
              "          dataTable['output_type'] = 'display_data';\n",
              "          await google.colab.output.renderOutput(dataTable, element);\n",
              "          const docLink = document.createElement('div');\n",
              "          docLink.innerHTML = docLinkHtml;\n",
              "          element.appendChild(docLink);\n",
              "        }\n",
              "      </script>\n",
              "    </div>\n",
              "  </div>\n",
              "  "
            ]
          },
          "metadata": {},
          "execution_count": 4
        }
      ]
    },
    {
      "cell_type": "markdown",
      "source": [
        "지역내총생산(df1) 데이터 정리"
      ],
      "metadata": {
        "id": "4U3kUHiJbhE2"
      }
    },
    {
      "cell_type": "code",
      "source": [
        "df1 = df1[['자치구별(2)', '2010', '2011', '2012', '2013', '2014', '2015', '2016', '2017', '2018', '2019', '2020']]\n",
        "df1.drop([0], axis=0, inplace=True)"
      ],
      "metadata": {
        "id": "zcEGFTe-bAWL"
      },
      "execution_count": 5,
      "outputs": []
    },
    {
      "cell_type": "markdown",
      "source": [
        "지역내총생산(df1) 데이터 정리 후 읽기 테스트"
      ],
      "metadata": {
        "id": "PY-n3kExbtc9"
      }
    },
    {
      "cell_type": "code",
      "source": [
        "df1.head()"
      ],
      "metadata": {
        "colab": {
          "base_uri": "https://localhost:8080/",
          "height": 206
        },
        "id": "PhbNRYGhbmoD",
        "outputId": "2bfc711d-04e4-44d7-e26d-57598a45cc1d"
      },
      "execution_count": 6,
      "outputs": [
        {
          "output_type": "execute_result",
          "data": {
            "text/plain": [
              "  자치구별(2)       2010       2011       2012       2013       2014       2015  \\\n",
              "1      소계  313281033  326415107  334324998  340711607  350258443  370167867   \n",
              "2     종로구   25368342   26475253   27054742   26899141   28437845   29331069   \n",
              "3      중구   50231606   49984232   47896948   46545834   46949514   49949249   \n",
              "4     용산구    9458938    9708239    9617839    9635228    9686230   10023473   \n",
              "5     성동구    7594800    8134121    8714556    9158435    9597921   10231864   \n",
              "\n",
              "        2016       2017       2018       2019       2020  \n",
              "1  387364432  404079600  423742112  435927212  444544909  \n",
              "2   30190706   31416328   31868698   33780610   33893980  \n",
              "3   52623501   51213292   54274488   53823217   56070505  \n",
              "4   10457073   11737945   12300317   12695516   12824348  \n",
              "5   10662221   10735112   11657151   12167850   12422960  "
            ],
            "text/html": [
              "\n",
              "  <div id=\"df-efdafc60-b47c-4340-a521-f234417b70c3\">\n",
              "    <div class=\"colab-df-container\">\n",
              "      <div>\n",
              "<style scoped>\n",
              "    .dataframe tbody tr th:only-of-type {\n",
              "        vertical-align: middle;\n",
              "    }\n",
              "\n",
              "    .dataframe tbody tr th {\n",
              "        vertical-align: top;\n",
              "    }\n",
              "\n",
              "    .dataframe thead th {\n",
              "        text-align: right;\n",
              "    }\n",
              "</style>\n",
              "<table border=\"1\" class=\"dataframe\">\n",
              "  <thead>\n",
              "    <tr style=\"text-align: right;\">\n",
              "      <th></th>\n",
              "      <th>자치구별(2)</th>\n",
              "      <th>2010</th>\n",
              "      <th>2011</th>\n",
              "      <th>2012</th>\n",
              "      <th>2013</th>\n",
              "      <th>2014</th>\n",
              "      <th>2015</th>\n",
              "      <th>2016</th>\n",
              "      <th>2017</th>\n",
              "      <th>2018</th>\n",
              "      <th>2019</th>\n",
              "      <th>2020</th>\n",
              "    </tr>\n",
              "  </thead>\n",
              "  <tbody>\n",
              "    <tr>\n",
              "      <th>1</th>\n",
              "      <td>소계</td>\n",
              "      <td>313281033</td>\n",
              "      <td>326415107</td>\n",
              "      <td>334324998</td>\n",
              "      <td>340711607</td>\n",
              "      <td>350258443</td>\n",
              "      <td>370167867</td>\n",
              "      <td>387364432</td>\n",
              "      <td>404079600</td>\n",
              "      <td>423742112</td>\n",
              "      <td>435927212</td>\n",
              "      <td>444544909</td>\n",
              "    </tr>\n",
              "    <tr>\n",
              "      <th>2</th>\n",
              "      <td>종로구</td>\n",
              "      <td>25368342</td>\n",
              "      <td>26475253</td>\n",
              "      <td>27054742</td>\n",
              "      <td>26899141</td>\n",
              "      <td>28437845</td>\n",
              "      <td>29331069</td>\n",
              "      <td>30190706</td>\n",
              "      <td>31416328</td>\n",
              "      <td>31868698</td>\n",
              "      <td>33780610</td>\n",
              "      <td>33893980</td>\n",
              "    </tr>\n",
              "    <tr>\n",
              "      <th>3</th>\n",
              "      <td>중구</td>\n",
              "      <td>50231606</td>\n",
              "      <td>49984232</td>\n",
              "      <td>47896948</td>\n",
              "      <td>46545834</td>\n",
              "      <td>46949514</td>\n",
              "      <td>49949249</td>\n",
              "      <td>52623501</td>\n",
              "      <td>51213292</td>\n",
              "      <td>54274488</td>\n",
              "      <td>53823217</td>\n",
              "      <td>56070505</td>\n",
              "    </tr>\n",
              "    <tr>\n",
              "      <th>4</th>\n",
              "      <td>용산구</td>\n",
              "      <td>9458938</td>\n",
              "      <td>9708239</td>\n",
              "      <td>9617839</td>\n",
              "      <td>9635228</td>\n",
              "      <td>9686230</td>\n",
              "      <td>10023473</td>\n",
              "      <td>10457073</td>\n",
              "      <td>11737945</td>\n",
              "      <td>12300317</td>\n",
              "      <td>12695516</td>\n",
              "      <td>12824348</td>\n",
              "    </tr>\n",
              "    <tr>\n",
              "      <th>5</th>\n",
              "      <td>성동구</td>\n",
              "      <td>7594800</td>\n",
              "      <td>8134121</td>\n",
              "      <td>8714556</td>\n",
              "      <td>9158435</td>\n",
              "      <td>9597921</td>\n",
              "      <td>10231864</td>\n",
              "      <td>10662221</td>\n",
              "      <td>10735112</td>\n",
              "      <td>11657151</td>\n",
              "      <td>12167850</td>\n",
              "      <td>12422960</td>\n",
              "    </tr>\n",
              "  </tbody>\n",
              "</table>\n",
              "</div>\n",
              "      <button class=\"colab-df-convert\" onclick=\"convertToInteractive('df-efdafc60-b47c-4340-a521-f234417b70c3')\"\n",
              "              title=\"Convert this dataframe to an interactive table.\"\n",
              "              style=\"display:none;\">\n",
              "        \n",
              "  <svg xmlns=\"http://www.w3.org/2000/svg\" height=\"24px\"viewBox=\"0 0 24 24\"\n",
              "       width=\"24px\">\n",
              "    <path d=\"M0 0h24v24H0V0z\" fill=\"none\"/>\n",
              "    <path d=\"M18.56 5.44l.94 2.06.94-2.06 2.06-.94-2.06-.94-.94-2.06-.94 2.06-2.06.94zm-11 1L8.5 8.5l.94-2.06 2.06-.94-2.06-.94L8.5 2.5l-.94 2.06-2.06.94zm10 10l.94 2.06.94-2.06 2.06-.94-2.06-.94-.94-2.06-.94 2.06-2.06.94z\"/><path d=\"M17.41 7.96l-1.37-1.37c-.4-.4-.92-.59-1.43-.59-.52 0-1.04.2-1.43.59L10.3 9.45l-7.72 7.72c-.78.78-.78 2.05 0 2.83L4 21.41c.39.39.9.59 1.41.59.51 0 1.02-.2 1.41-.59l7.78-7.78 2.81-2.81c.8-.78.8-2.07 0-2.86zM5.41 20L4 18.59l7.72-7.72 1.47 1.35L5.41 20z\"/>\n",
              "  </svg>\n",
              "      </button>\n",
              "      \n",
              "  <style>\n",
              "    .colab-df-container {\n",
              "      display:flex;\n",
              "      flex-wrap:wrap;\n",
              "      gap: 12px;\n",
              "    }\n",
              "\n",
              "    .colab-df-convert {\n",
              "      background-color: #E8F0FE;\n",
              "      border: none;\n",
              "      border-radius: 50%;\n",
              "      cursor: pointer;\n",
              "      display: none;\n",
              "      fill: #1967D2;\n",
              "      height: 32px;\n",
              "      padding: 0 0 0 0;\n",
              "      width: 32px;\n",
              "    }\n",
              "\n",
              "    .colab-df-convert:hover {\n",
              "      background-color: #E2EBFA;\n",
              "      box-shadow: 0px 1px 2px rgba(60, 64, 67, 0.3), 0px 1px 3px 1px rgba(60, 64, 67, 0.15);\n",
              "      fill: #174EA6;\n",
              "    }\n",
              "\n",
              "    [theme=dark] .colab-df-convert {\n",
              "      background-color: #3B4455;\n",
              "      fill: #D2E3FC;\n",
              "    }\n",
              "\n",
              "    [theme=dark] .colab-df-convert:hover {\n",
              "      background-color: #434B5C;\n",
              "      box-shadow: 0px 1px 3px 1px rgba(0, 0, 0, 0.15);\n",
              "      filter: drop-shadow(0px 1px 2px rgba(0, 0, 0, 0.3));\n",
              "      fill: #FFFFFF;\n",
              "    }\n",
              "  </style>\n",
              "\n",
              "      <script>\n",
              "        const buttonEl =\n",
              "          document.querySelector('#df-efdafc60-b47c-4340-a521-f234417b70c3 button.colab-df-convert');\n",
              "        buttonEl.style.display =\n",
              "          google.colab.kernel.accessAllowed ? 'block' : 'none';\n",
              "\n",
              "        async function convertToInteractive(key) {\n",
              "          const element = document.querySelector('#df-efdafc60-b47c-4340-a521-f234417b70c3');\n",
              "          const dataTable =\n",
              "            await google.colab.kernel.invokeFunction('convertToInteractive',\n",
              "                                                     [key], {});\n",
              "          if (!dataTable) return;\n",
              "\n",
              "          const docLinkHtml = 'Like what you see? Visit the ' +\n",
              "            '<a target=\"_blank\" href=https://colab.research.google.com/notebooks/data_table.ipynb>data table notebook</a>'\n",
              "            + ' to learn more about interactive tables.';\n",
              "          element.innerHTML = '';\n",
              "          dataTable['output_type'] = 'display_data';\n",
              "          await google.colab.output.renderOutput(dataTable, element);\n",
              "          const docLink = document.createElement('div');\n",
              "          docLink.innerHTML = docLinkHtml;\n",
              "          element.appendChild(docLink);\n",
              "        }\n",
              "      </script>\n",
              "    </div>\n",
              "  </div>\n",
              "  "
            ]
          },
          "metadata": {},
          "execution_count": 6
        }
      ]
    },
    {
      "cell_type": "markdown",
      "source": [
        "지역내총생산(df1) 데이터 타입 확인"
      ],
      "metadata": {
        "id": "86R84f9Cb7KA"
      }
    },
    {
      "cell_type": "code",
      "source": [
        "df1.dtypes"
      ],
      "metadata": {
        "colab": {
          "base_uri": "https://localhost:8080/"
        },
        "id": "teRs_jNdczQY",
        "outputId": "9080ec58-b1b5-4c8b-9700-93ea3821ef7b"
      },
      "execution_count": 7,
      "outputs": [
        {
          "output_type": "execute_result",
          "data": {
            "text/plain": [
              "자치구별(2)    object\n",
              "2010       object\n",
              "2011       object\n",
              "2012       object\n",
              "2013       object\n",
              "2014       object\n",
              "2015       object\n",
              "2016       object\n",
              "2017       object\n",
              "2018       object\n",
              "2019       object\n",
              "2020       object\n",
              "dtype: object"
            ]
          },
          "metadata": {},
          "execution_count": 7
        }
      ]
    },
    {
      "cell_type": "markdown",
      "source": [
        "지역내총생산(df1) 데이터 타입 변경 (object → int64)"
      ],
      "metadata": {
        "id": "intSEStodBq2"
      }
    },
    {
      "cell_type": "code",
      "source": [
        "yTmp = ''\n",
        "for i in range(2010, 2020 + 1, 1) :\n",
        "  yTmp = str(i)\n",
        "  df1 = df1.astype({yTmp:'int'})"
      ],
      "metadata": {
        "id": "hmYFxXYZb7Y1"
      },
      "execution_count": 8,
      "outputs": []
    },
    {
      "cell_type": "markdown",
      "source": [
        "지역내총생산(df1) 데이터 타입 변경 후 확인"
      ],
      "metadata": {
        "id": "qlUfNlfQdOKV"
      }
    },
    {
      "cell_type": "code",
      "source": [
        "df1.dtypes"
      ],
      "metadata": {
        "colab": {
          "base_uri": "https://localhost:8080/"
        },
        "id": "sZ7CB99Pc9GO",
        "outputId": "3e271313-c1c4-4304-8068-2dad0b2eb339"
      },
      "execution_count": 9,
      "outputs": [
        {
          "output_type": "execute_result",
          "data": {
            "text/plain": [
              "자치구별(2)    object\n",
              "2010        int64\n",
              "2011        int64\n",
              "2012        int64\n",
              "2013        int64\n",
              "2014        int64\n",
              "2015        int64\n",
              "2016        int64\n",
              "2017        int64\n",
              "2018        int64\n",
              "2019        int64\n",
              "2020        int64\n",
              "dtype: object"
            ]
          },
          "metadata": {},
          "execution_count": 9
        }
      ]
    },
    {
      "cell_type": "markdown",
      "source": [
        "## 주민등록인구(df2) 불러오기 및 데이터 정리"
      ],
      "metadata": {
        "id": "4KKYmmt3KwpA"
      }
    },
    {
      "cell_type": "markdown",
      "source": [
        "주민등록인구(df2) 불러오기"
      ],
      "metadata": {
        "id": "a5JFwqPxdQPU"
      }
    },
    {
      "cell_type": "code",
      "source": [
        "df2 = pd.read_csv(\"/content/주민등록인구_20230603215842.csv\" , encoding='utf-8')"
      ],
      "metadata": {
        "id": "-aj7d1KNdkdy"
      },
      "execution_count": 10,
      "outputs": []
    },
    {
      "cell_type": "markdown",
      "source": [
        "주민등록인구(df2) 읽기 테스트"
      ],
      "metadata": {
        "id": "pFbN0ItCd0z1"
      }
    },
    {
      "cell_type": "code",
      "source": [
        "df2.head()"
      ],
      "metadata": {
        "colab": {
          "base_uri": "https://localhost:8080/",
          "height": 206
        },
        "outputId": "34fb2bb2-7338-4b2c-80f4-dce0548dbdd4",
        "id": "URPno4s7d0z8"
      },
      "execution_count": 11,
      "outputs": [
        {
          "output_type": "execute_result",
          "data": {
            "text/plain": [
              "   동별(1)  동별(2)      2010      2011      2012      2013      2014      2015  \\\n",
              "0  동별(1)  동별(2)         계         계         계         계         계         계   \n",
              "1     합계     소계  10575447  10528774  10442426  10388055  10369593  10297138   \n",
              "2     합계    종로구    179362    177419    173148    167867    165344    163822   \n",
              "3     합계     중구    141200    141567    140807    137990    136227    134329   \n",
              "4     합계    용산구    257143    259288    255294    251925    249914    247909   \n",
              "\n",
              "       2016      2017      2018      2019     2020  \n",
              "0         계         계         계         계        계  \n",
              "1  10204057  10124579  10049607  10010983  9911088  \n",
              "2    161922    164257    163026    161869   158996  \n",
              "3    134409    134593    135633    136488   134635  \n",
              "4    245102    244444    245090    245185   244645  "
            ],
            "text/html": [
              "\n",
              "  <div id=\"df-3f1c5f2b-77d7-4940-a464-ef975497ab83\">\n",
              "    <div class=\"colab-df-container\">\n",
              "      <div>\n",
              "<style scoped>\n",
              "    .dataframe tbody tr th:only-of-type {\n",
              "        vertical-align: middle;\n",
              "    }\n",
              "\n",
              "    .dataframe tbody tr th {\n",
              "        vertical-align: top;\n",
              "    }\n",
              "\n",
              "    .dataframe thead th {\n",
              "        text-align: right;\n",
              "    }\n",
              "</style>\n",
              "<table border=\"1\" class=\"dataframe\">\n",
              "  <thead>\n",
              "    <tr style=\"text-align: right;\">\n",
              "      <th></th>\n",
              "      <th>동별(1)</th>\n",
              "      <th>동별(2)</th>\n",
              "      <th>2010</th>\n",
              "      <th>2011</th>\n",
              "      <th>2012</th>\n",
              "      <th>2013</th>\n",
              "      <th>2014</th>\n",
              "      <th>2015</th>\n",
              "      <th>2016</th>\n",
              "      <th>2017</th>\n",
              "      <th>2018</th>\n",
              "      <th>2019</th>\n",
              "      <th>2020</th>\n",
              "    </tr>\n",
              "  </thead>\n",
              "  <tbody>\n",
              "    <tr>\n",
              "      <th>0</th>\n",
              "      <td>동별(1)</td>\n",
              "      <td>동별(2)</td>\n",
              "      <td>계</td>\n",
              "      <td>계</td>\n",
              "      <td>계</td>\n",
              "      <td>계</td>\n",
              "      <td>계</td>\n",
              "      <td>계</td>\n",
              "      <td>계</td>\n",
              "      <td>계</td>\n",
              "      <td>계</td>\n",
              "      <td>계</td>\n",
              "      <td>계</td>\n",
              "    </tr>\n",
              "    <tr>\n",
              "      <th>1</th>\n",
              "      <td>합계</td>\n",
              "      <td>소계</td>\n",
              "      <td>10575447</td>\n",
              "      <td>10528774</td>\n",
              "      <td>10442426</td>\n",
              "      <td>10388055</td>\n",
              "      <td>10369593</td>\n",
              "      <td>10297138</td>\n",
              "      <td>10204057</td>\n",
              "      <td>10124579</td>\n",
              "      <td>10049607</td>\n",
              "      <td>10010983</td>\n",
              "      <td>9911088</td>\n",
              "    </tr>\n",
              "    <tr>\n",
              "      <th>2</th>\n",
              "      <td>합계</td>\n",
              "      <td>종로구</td>\n",
              "      <td>179362</td>\n",
              "      <td>177419</td>\n",
              "      <td>173148</td>\n",
              "      <td>167867</td>\n",
              "      <td>165344</td>\n",
              "      <td>163822</td>\n",
              "      <td>161922</td>\n",
              "      <td>164257</td>\n",
              "      <td>163026</td>\n",
              "      <td>161869</td>\n",
              "      <td>158996</td>\n",
              "    </tr>\n",
              "    <tr>\n",
              "      <th>3</th>\n",
              "      <td>합계</td>\n",
              "      <td>중구</td>\n",
              "      <td>141200</td>\n",
              "      <td>141567</td>\n",
              "      <td>140807</td>\n",
              "      <td>137990</td>\n",
              "      <td>136227</td>\n",
              "      <td>134329</td>\n",
              "      <td>134409</td>\n",
              "      <td>134593</td>\n",
              "      <td>135633</td>\n",
              "      <td>136488</td>\n",
              "      <td>134635</td>\n",
              "    </tr>\n",
              "    <tr>\n",
              "      <th>4</th>\n",
              "      <td>합계</td>\n",
              "      <td>용산구</td>\n",
              "      <td>257143</td>\n",
              "      <td>259288</td>\n",
              "      <td>255294</td>\n",
              "      <td>251925</td>\n",
              "      <td>249914</td>\n",
              "      <td>247909</td>\n",
              "      <td>245102</td>\n",
              "      <td>244444</td>\n",
              "      <td>245090</td>\n",
              "      <td>245185</td>\n",
              "      <td>244645</td>\n",
              "    </tr>\n",
              "  </tbody>\n",
              "</table>\n",
              "</div>\n",
              "      <button class=\"colab-df-convert\" onclick=\"convertToInteractive('df-3f1c5f2b-77d7-4940-a464-ef975497ab83')\"\n",
              "              title=\"Convert this dataframe to an interactive table.\"\n",
              "              style=\"display:none;\">\n",
              "        \n",
              "  <svg xmlns=\"http://www.w3.org/2000/svg\" height=\"24px\"viewBox=\"0 0 24 24\"\n",
              "       width=\"24px\">\n",
              "    <path d=\"M0 0h24v24H0V0z\" fill=\"none\"/>\n",
              "    <path d=\"M18.56 5.44l.94 2.06.94-2.06 2.06-.94-2.06-.94-.94-2.06-.94 2.06-2.06.94zm-11 1L8.5 8.5l.94-2.06 2.06-.94-2.06-.94L8.5 2.5l-.94 2.06-2.06.94zm10 10l.94 2.06.94-2.06 2.06-.94-2.06-.94-.94-2.06-.94 2.06-2.06.94z\"/><path d=\"M17.41 7.96l-1.37-1.37c-.4-.4-.92-.59-1.43-.59-.52 0-1.04.2-1.43.59L10.3 9.45l-7.72 7.72c-.78.78-.78 2.05 0 2.83L4 21.41c.39.39.9.59 1.41.59.51 0 1.02-.2 1.41-.59l7.78-7.78 2.81-2.81c.8-.78.8-2.07 0-2.86zM5.41 20L4 18.59l7.72-7.72 1.47 1.35L5.41 20z\"/>\n",
              "  </svg>\n",
              "      </button>\n",
              "      \n",
              "  <style>\n",
              "    .colab-df-container {\n",
              "      display:flex;\n",
              "      flex-wrap:wrap;\n",
              "      gap: 12px;\n",
              "    }\n",
              "\n",
              "    .colab-df-convert {\n",
              "      background-color: #E8F0FE;\n",
              "      border: none;\n",
              "      border-radius: 50%;\n",
              "      cursor: pointer;\n",
              "      display: none;\n",
              "      fill: #1967D2;\n",
              "      height: 32px;\n",
              "      padding: 0 0 0 0;\n",
              "      width: 32px;\n",
              "    }\n",
              "\n",
              "    .colab-df-convert:hover {\n",
              "      background-color: #E2EBFA;\n",
              "      box-shadow: 0px 1px 2px rgba(60, 64, 67, 0.3), 0px 1px 3px 1px rgba(60, 64, 67, 0.15);\n",
              "      fill: #174EA6;\n",
              "    }\n",
              "\n",
              "    [theme=dark] .colab-df-convert {\n",
              "      background-color: #3B4455;\n",
              "      fill: #D2E3FC;\n",
              "    }\n",
              "\n",
              "    [theme=dark] .colab-df-convert:hover {\n",
              "      background-color: #434B5C;\n",
              "      box-shadow: 0px 1px 3px 1px rgba(0, 0, 0, 0.15);\n",
              "      filter: drop-shadow(0px 1px 2px rgba(0, 0, 0, 0.3));\n",
              "      fill: #FFFFFF;\n",
              "    }\n",
              "  </style>\n",
              "\n",
              "      <script>\n",
              "        const buttonEl =\n",
              "          document.querySelector('#df-3f1c5f2b-77d7-4940-a464-ef975497ab83 button.colab-df-convert');\n",
              "        buttonEl.style.display =\n",
              "          google.colab.kernel.accessAllowed ? 'block' : 'none';\n",
              "\n",
              "        async function convertToInteractive(key) {\n",
              "          const element = document.querySelector('#df-3f1c5f2b-77d7-4940-a464-ef975497ab83');\n",
              "          const dataTable =\n",
              "            await google.colab.kernel.invokeFunction('convertToInteractive',\n",
              "                                                     [key], {});\n",
              "          if (!dataTable) return;\n",
              "\n",
              "          const docLinkHtml = 'Like what you see? Visit the ' +\n",
              "            '<a target=\"_blank\" href=https://colab.research.google.com/notebooks/data_table.ipynb>data table notebook</a>'\n",
              "            + ' to learn more about interactive tables.';\n",
              "          element.innerHTML = '';\n",
              "          dataTable['output_type'] = 'display_data';\n",
              "          await google.colab.output.renderOutput(dataTable, element);\n",
              "          const docLink = document.createElement('div');\n",
              "          docLink.innerHTML = docLinkHtml;\n",
              "          element.appendChild(docLink);\n",
              "        }\n",
              "      </script>\n",
              "    </div>\n",
              "  </div>\n",
              "  "
            ]
          },
          "metadata": {},
          "execution_count": 11
        }
      ]
    },
    {
      "cell_type": "markdown",
      "source": [
        "주민등록인구(df2) 데이터 정리"
      ],
      "metadata": {
        "id": "Qjj5FJPzeBVM"
      }
    },
    {
      "cell_type": "code",
      "source": [
        "df2.drop([0], axis=0, inplace=True)\n",
        "df2.drop(['동별(1)'], axis=1, inplace=True)"
      ],
      "metadata": {
        "id": "9hGYCiuOfVoJ"
      },
      "execution_count": 12,
      "outputs": []
    },
    {
      "cell_type": "markdown",
      "source": [
        "주민등록인구(df2) 데이터 정리 후 읽기 테스트"
      ],
      "metadata": {
        "id": "u8gZHP2beBVN"
      }
    },
    {
      "cell_type": "code",
      "source": [
        "df2.head()"
      ],
      "metadata": {
        "colab": {
          "base_uri": "https://localhost:8080/",
          "height": 206
        },
        "outputId": "5ca4b662-6d0b-408a-b79c-5f518d6c9e71",
        "id": "QbKvIgH4eBVN"
      },
      "execution_count": 13,
      "outputs": [
        {
          "output_type": "execute_result",
          "data": {
            "text/plain": [
              "  동별(2)      2010      2011      2012      2013      2014      2015      2016  \\\n",
              "1    소계  10575447  10528774  10442426  10388055  10369593  10297138  10204057   \n",
              "2   종로구    179362    177419    173148    167867    165344    163822    161922   \n",
              "3    중구    141200    141567    140807    137990    136227    134329    134409   \n",
              "4   용산구    257143    259288    255294    251925    249914    247909    245102   \n",
              "5   성동구    316892    308767    306868    306571    303891    305065    307161   \n",
              "\n",
              "       2017      2018      2019     2020  \n",
              "1  10124579  10049607  10010983  9911088  \n",
              "2    164257    163026    161869   158996  \n",
              "3    134593    135633    136488   134635  \n",
              "4    244444    245090    245185   244645  \n",
              "5    312711    316463    308979   300505  "
            ],
            "text/html": [
              "\n",
              "  <div id=\"df-58aa5531-b59a-425d-b466-1a036cea33e5\">\n",
              "    <div class=\"colab-df-container\">\n",
              "      <div>\n",
              "<style scoped>\n",
              "    .dataframe tbody tr th:only-of-type {\n",
              "        vertical-align: middle;\n",
              "    }\n",
              "\n",
              "    .dataframe tbody tr th {\n",
              "        vertical-align: top;\n",
              "    }\n",
              "\n",
              "    .dataframe thead th {\n",
              "        text-align: right;\n",
              "    }\n",
              "</style>\n",
              "<table border=\"1\" class=\"dataframe\">\n",
              "  <thead>\n",
              "    <tr style=\"text-align: right;\">\n",
              "      <th></th>\n",
              "      <th>동별(2)</th>\n",
              "      <th>2010</th>\n",
              "      <th>2011</th>\n",
              "      <th>2012</th>\n",
              "      <th>2013</th>\n",
              "      <th>2014</th>\n",
              "      <th>2015</th>\n",
              "      <th>2016</th>\n",
              "      <th>2017</th>\n",
              "      <th>2018</th>\n",
              "      <th>2019</th>\n",
              "      <th>2020</th>\n",
              "    </tr>\n",
              "  </thead>\n",
              "  <tbody>\n",
              "    <tr>\n",
              "      <th>1</th>\n",
              "      <td>소계</td>\n",
              "      <td>10575447</td>\n",
              "      <td>10528774</td>\n",
              "      <td>10442426</td>\n",
              "      <td>10388055</td>\n",
              "      <td>10369593</td>\n",
              "      <td>10297138</td>\n",
              "      <td>10204057</td>\n",
              "      <td>10124579</td>\n",
              "      <td>10049607</td>\n",
              "      <td>10010983</td>\n",
              "      <td>9911088</td>\n",
              "    </tr>\n",
              "    <tr>\n",
              "      <th>2</th>\n",
              "      <td>종로구</td>\n",
              "      <td>179362</td>\n",
              "      <td>177419</td>\n",
              "      <td>173148</td>\n",
              "      <td>167867</td>\n",
              "      <td>165344</td>\n",
              "      <td>163822</td>\n",
              "      <td>161922</td>\n",
              "      <td>164257</td>\n",
              "      <td>163026</td>\n",
              "      <td>161869</td>\n",
              "      <td>158996</td>\n",
              "    </tr>\n",
              "    <tr>\n",
              "      <th>3</th>\n",
              "      <td>중구</td>\n",
              "      <td>141200</td>\n",
              "      <td>141567</td>\n",
              "      <td>140807</td>\n",
              "      <td>137990</td>\n",
              "      <td>136227</td>\n",
              "      <td>134329</td>\n",
              "      <td>134409</td>\n",
              "      <td>134593</td>\n",
              "      <td>135633</td>\n",
              "      <td>136488</td>\n",
              "      <td>134635</td>\n",
              "    </tr>\n",
              "    <tr>\n",
              "      <th>4</th>\n",
              "      <td>용산구</td>\n",
              "      <td>257143</td>\n",
              "      <td>259288</td>\n",
              "      <td>255294</td>\n",
              "      <td>251925</td>\n",
              "      <td>249914</td>\n",
              "      <td>247909</td>\n",
              "      <td>245102</td>\n",
              "      <td>244444</td>\n",
              "      <td>245090</td>\n",
              "      <td>245185</td>\n",
              "      <td>244645</td>\n",
              "    </tr>\n",
              "    <tr>\n",
              "      <th>5</th>\n",
              "      <td>성동구</td>\n",
              "      <td>316892</td>\n",
              "      <td>308767</td>\n",
              "      <td>306868</td>\n",
              "      <td>306571</td>\n",
              "      <td>303891</td>\n",
              "      <td>305065</td>\n",
              "      <td>307161</td>\n",
              "      <td>312711</td>\n",
              "      <td>316463</td>\n",
              "      <td>308979</td>\n",
              "      <td>300505</td>\n",
              "    </tr>\n",
              "  </tbody>\n",
              "</table>\n",
              "</div>\n",
              "      <button class=\"colab-df-convert\" onclick=\"convertToInteractive('df-58aa5531-b59a-425d-b466-1a036cea33e5')\"\n",
              "              title=\"Convert this dataframe to an interactive table.\"\n",
              "              style=\"display:none;\">\n",
              "        \n",
              "  <svg xmlns=\"http://www.w3.org/2000/svg\" height=\"24px\"viewBox=\"0 0 24 24\"\n",
              "       width=\"24px\">\n",
              "    <path d=\"M0 0h24v24H0V0z\" fill=\"none\"/>\n",
              "    <path d=\"M18.56 5.44l.94 2.06.94-2.06 2.06-.94-2.06-.94-.94-2.06-.94 2.06-2.06.94zm-11 1L8.5 8.5l.94-2.06 2.06-.94-2.06-.94L8.5 2.5l-.94 2.06-2.06.94zm10 10l.94 2.06.94-2.06 2.06-.94-2.06-.94-.94-2.06-.94 2.06-2.06.94z\"/><path d=\"M17.41 7.96l-1.37-1.37c-.4-.4-.92-.59-1.43-.59-.52 0-1.04.2-1.43.59L10.3 9.45l-7.72 7.72c-.78.78-.78 2.05 0 2.83L4 21.41c.39.39.9.59 1.41.59.51 0 1.02-.2 1.41-.59l7.78-7.78 2.81-2.81c.8-.78.8-2.07 0-2.86zM5.41 20L4 18.59l7.72-7.72 1.47 1.35L5.41 20z\"/>\n",
              "  </svg>\n",
              "      </button>\n",
              "      \n",
              "  <style>\n",
              "    .colab-df-container {\n",
              "      display:flex;\n",
              "      flex-wrap:wrap;\n",
              "      gap: 12px;\n",
              "    }\n",
              "\n",
              "    .colab-df-convert {\n",
              "      background-color: #E8F0FE;\n",
              "      border: none;\n",
              "      border-radius: 50%;\n",
              "      cursor: pointer;\n",
              "      display: none;\n",
              "      fill: #1967D2;\n",
              "      height: 32px;\n",
              "      padding: 0 0 0 0;\n",
              "      width: 32px;\n",
              "    }\n",
              "\n",
              "    .colab-df-convert:hover {\n",
              "      background-color: #E2EBFA;\n",
              "      box-shadow: 0px 1px 2px rgba(60, 64, 67, 0.3), 0px 1px 3px 1px rgba(60, 64, 67, 0.15);\n",
              "      fill: #174EA6;\n",
              "    }\n",
              "\n",
              "    [theme=dark] .colab-df-convert {\n",
              "      background-color: #3B4455;\n",
              "      fill: #D2E3FC;\n",
              "    }\n",
              "\n",
              "    [theme=dark] .colab-df-convert:hover {\n",
              "      background-color: #434B5C;\n",
              "      box-shadow: 0px 1px 3px 1px rgba(0, 0, 0, 0.15);\n",
              "      filter: drop-shadow(0px 1px 2px rgba(0, 0, 0, 0.3));\n",
              "      fill: #FFFFFF;\n",
              "    }\n",
              "  </style>\n",
              "\n",
              "      <script>\n",
              "        const buttonEl =\n",
              "          document.querySelector('#df-58aa5531-b59a-425d-b466-1a036cea33e5 button.colab-df-convert');\n",
              "        buttonEl.style.display =\n",
              "          google.colab.kernel.accessAllowed ? 'block' : 'none';\n",
              "\n",
              "        async function convertToInteractive(key) {\n",
              "          const element = document.querySelector('#df-58aa5531-b59a-425d-b466-1a036cea33e5');\n",
              "          const dataTable =\n",
              "            await google.colab.kernel.invokeFunction('convertToInteractive',\n",
              "                                                     [key], {});\n",
              "          if (!dataTable) return;\n",
              "\n",
              "          const docLinkHtml = 'Like what you see? Visit the ' +\n",
              "            '<a target=\"_blank\" href=https://colab.research.google.com/notebooks/data_table.ipynb>data table notebook</a>'\n",
              "            + ' to learn more about interactive tables.';\n",
              "          element.innerHTML = '';\n",
              "          dataTable['output_type'] = 'display_data';\n",
              "          await google.colab.output.renderOutput(dataTable, element);\n",
              "          const docLink = document.createElement('div');\n",
              "          docLink.innerHTML = docLinkHtml;\n",
              "          element.appendChild(docLink);\n",
              "        }\n",
              "      </script>\n",
              "    </div>\n",
              "  </div>\n",
              "  "
            ]
          },
          "metadata": {},
          "execution_count": 13
        }
      ]
    },
    {
      "cell_type": "markdown",
      "source": [
        "주민등록인구(df2) 데이터 타입 확인"
      ],
      "metadata": {
        "id": "Lk6Ox4CZeXwK"
      }
    },
    {
      "cell_type": "code",
      "source": [
        "df2.dtypes"
      ],
      "metadata": {
        "colab": {
          "base_uri": "https://localhost:8080/"
        },
        "outputId": "04fc50f4-5026-48fd-ffa3-93b95d9d5fc4",
        "id": "q46i5wCIeXwK"
      },
      "execution_count": 14,
      "outputs": [
        {
          "output_type": "execute_result",
          "data": {
            "text/plain": [
              "동별(2)    object\n",
              "2010     object\n",
              "2011     object\n",
              "2012     object\n",
              "2013     object\n",
              "2014     object\n",
              "2015     object\n",
              "2016     object\n",
              "2017     object\n",
              "2018     object\n",
              "2019     object\n",
              "2020     object\n",
              "dtype: object"
            ]
          },
          "metadata": {},
          "execution_count": 14
        }
      ]
    },
    {
      "cell_type": "markdown",
      "source": [
        "주민등록인구(df2) 데이터 타입 변경 (object → int64)"
      ],
      "metadata": {
        "id": "z1YaRufxeXwL"
      }
    },
    {
      "cell_type": "code",
      "source": [
        "yTmp = ''\n",
        "for i in range(2010, 2020 + 1, 1) :\n",
        "  yTmp = str(i)\n",
        "  df2 = df2.astype({yTmp:'int'})"
      ],
      "metadata": {
        "id": "gN6kCIsaeXwL"
      },
      "execution_count": 15,
      "outputs": []
    },
    {
      "cell_type": "markdown",
      "source": [
        "주민등록인구(df2) 데이터 타입 변경 후 확인"
      ],
      "metadata": {
        "id": "Ki52eyBaeXwL"
      }
    },
    {
      "cell_type": "code",
      "source": [
        "df2.dtypes"
      ],
      "metadata": {
        "colab": {
          "base_uri": "https://localhost:8080/"
        },
        "outputId": "47941b7a-300f-46a7-c36d-69b263c0ca4a",
        "id": "kqpZdW1seXwL"
      },
      "execution_count": 16,
      "outputs": [
        {
          "output_type": "execute_result",
          "data": {
            "text/plain": [
              "동별(2)    object\n",
              "2010      int64\n",
              "2011      int64\n",
              "2012      int64\n",
              "2013      int64\n",
              "2014      int64\n",
              "2015      int64\n",
              "2016      int64\n",
              "2017      int64\n",
              "2018      int64\n",
              "2019      int64\n",
              "2020      int64\n",
              "dtype: object"
            ]
          },
          "metadata": {},
          "execution_count": 16
        }
      ]
    },
    {
      "cell_type": "markdown",
      "source": [
        "## 1. 꺾은선\n",
        "- 데이터: 11개년 소계\n",
        "- x축은 연도, y1축은 총생산, y2축은 인구"
      ],
      "metadata": {
        "id": "c-wUT56KvxY3"
      }
    },
    {
      "cell_type": "markdown",
      "source": [
        "x축을 2010년부터 2020년까지의 연도로 두기 위한 yrs 배열 생성"
      ],
      "metadata": {
        "id": "eF5xtg9tvNEv"
      }
    },
    {
      "cell_type": "code",
      "source": [
        "yrs = []\n",
        "for i in range(2010, 2020 + 1, 1) :\n",
        "  yrs.append(i)\n",
        "print(yrs)"
      ],
      "metadata": {
        "colab": {
          "base_uri": "https://localhost:8080/"
        },
        "id": "26fx9XwTmMwy",
        "outputId": "3ad1e7cc-a38a-4408-df72-1a4568395707"
      },
      "execution_count": 17,
      "outputs": [
        {
          "output_type": "stream",
          "name": "stdout",
          "text": [
            "[2010, 2011, 2012, 2013, 2014, 2015, 2016, 2017, 2018, 2019, 2020]\n"
          ]
        }
      ]
    },
    {
      "cell_type": "markdown",
      "source": [
        "y축을 연도별 지역내총생산으로 두기 위한 df10 배열 생성"
      ],
      "metadata": {
        "id": "SwOZoNn7vf5b"
      }
    },
    {
      "cell_type": "code",
      "source": [
        "df10 = df1.loc[[1]]\n",
        "df10.drop(['자치구별(2)'], axis=1, inplace=True)\n",
        "df10 = df10.values.tolist()[0]\n",
        "\n",
        "print(df10)"
      ],
      "metadata": {
        "colab": {
          "base_uri": "https://localhost:8080/"
        },
        "id": "5hZffSY1k_mr",
        "outputId": "4d22ba1f-3af5-453b-f191-cc0719f823c1"
      },
      "execution_count": 18,
      "outputs": [
        {
          "output_type": "stream",
          "name": "stdout",
          "text": [
            "[313281033, 326415107, 334324998, 340711607, 350258443, 370167867, 387364432, 404079600, 423742112, 435927212, 444544909]\n"
          ]
        }
      ]
    },
    {
      "cell_type": "markdown",
      "source": [
        "df10을 통해 그래프 그리기"
      ],
      "metadata": {
        "id": "z_NKCbVQwY5L"
      }
    },
    {
      "cell_type": "code",
      "source": [
        "plt.plot(yrs, df10)\n",
        "plt.show()"
      ],
      "metadata": {
        "colab": {
          "base_uri": "https://localhost:8080/",
          "height": 443
        },
        "id": "YTqUMxqhkyYF",
        "outputId": "d67b8232-1eaa-4a18-a11e-539a566ff9e2"
      },
      "execution_count": 19,
      "outputs": [
        {
          "output_type": "display_data",
          "data": {
            "text/plain": [
              "<Figure size 640x480 with 1 Axes>"
            ],
            "image/png": "[encoded data removed]"
          },
          "metadata": {}
        }
      ]
    },
    {
      "cell_type": "markdown",
      "source": [
        "y축을 연도별 주민등록인구로 두기 위한 df20 배열 생성"
      ],
      "metadata": {
        "id": "q-5gAxVWwRfP"
      }
    },
    {
      "cell_type": "code",
      "source": [
        "df20 = df2.loc[[1]]\n",
        "df20.drop(['동별(2)'], axis=1, inplace=True)\n",
        "df20 = df20.values.tolist()[0]\n",
        "\n",
        "print(df20)"
      ],
      "metadata": {
        "colab": {
          "base_uri": "https://localhost:8080/"
        },
        "id": "RFrLTtPSpYgT",
        "outputId": "126353c6-0f23-4eb0-a277-8eca54c62965"
      },
      "execution_count": 20,
      "outputs": [
        {
          "output_type": "stream",
          "name": "stdout",
          "text": [
            "[10575447, 10528774, 10442426, 10388055, 10369593, 10297138, 10204057, 10124579, 10049607, 10010983, 9911088]\n"
          ]
        }
      ]
    },
    {
      "cell_type": "markdown",
      "source": [
        "df20을 통해 그래프 그리기"
      ],
      "metadata": {
        "id": "ZAkbk1RIwubK"
      }
    },
    {
      "cell_type": "code",
      "source": [
        "plt.plot(yrs, df20)\n",
        "plt.show()"
      ],
      "metadata": {
        "colab": {
          "base_uri": "https://localhost:8080/",
          "height": 443
        },
        "id": "VJKTN1Y0pfN5",
        "outputId": "9ddafccb-791f-44e8-cfbc-c74f70cd1dab"
      },
      "execution_count": 21,
      "outputs": [
        {
          "output_type": "display_data",
          "data": {
            "text/plain": [
              "<Figure size 640x480 with 1 Axes>"
            ],
            "image/png": "[encoded data removed]"
          },
          "metadata": {}
        }
      ]
    },
    {
      "cell_type": "markdown",
      "source": [
        "두 그래프 합치기"
      ],
      "metadata": {
        "id": "mvYgxGtKwxhL"
      }
    },
    {
      "cell_type": "code",
      "source": [
        "fig, ax1 = plt.subplots()\n",
        "ax1.plot(yrs, df10, color = 'red', alpha = 0.5, label='서울 지역내총생산')\n",
        "\n",
        "current_values = plt.gca().get_yticks()\n",
        "plt.gca().set_yticklabels(['{:.0f}'.format(x) for x in current_values])\n",
        "\n",
        "ax2 = ax1.twinx()\n",
        "ax2.plot(yrs, df20, color = 'blue', alpha = 0.5, label='서울 주민등록인구')\n",
        "\n",
        "current_values = plt.gca().get_yticks()\n",
        "plt.gca().set_yticklabels(['{:.0f}'.format(x) for x in current_values])\n",
        "\n",
        "plt.title('서울 연도별 지역내총생산 및 주민등록인구')\n",
        "\n",
        "ax1.set_xlabel('연도')\n",
        "ax1.set_ylabel('지역내총생산(백만원)')\n",
        "ax2.set_ylabel('주민등록인구(명)')\n",
        "\n",
        "ax1.legend(loc='upper right')\n",
        "ax2.legend(loc='upper left')\n",
        "\n",
        "plt.show()"
      ],
      "metadata": {
        "colab": {
          "base_uri": "https://localhost:8080/",
          "height": 542
        },
        "id": "ZRJm7FXswxxj",
        "outputId": "6a14d963-729c-4127-e19b-17aba49ee0eb"
      },
      "execution_count": 22,
      "outputs": [
        {
          "output_type": "stream",
          "name": "stderr",
          "text": [
            "<ipython-input-22-7a2c3bdf5901>:5: UserWarning: FixedFormatter should only be used together with FixedLocator\n",
            "  plt.gca().set_yticklabels(['{:.0f}'.format(x) for x in current_values])\n",
            "<ipython-input-22-7a2c3bdf5901>:11: UserWarning: FixedFormatter should only be used together with FixedLocator\n",
            "  plt.gca().set_yticklabels(['{:.0f}'.format(x) for x in current_values])\n"
          ]
        },
        {
          "output_type": "display_data",
          "data": {
            "text/plain": [
              "<Figure size 640x480 with 2 Axes>"
            ],
            "image/png": "[encoded data removed]"
          },
          "metadata": {}
        }
      ]
    },
    {
      "cell_type": "markdown",
      "source": [
        "## 2. 산점도(일부)\n",
        "- 데이터: 11개년 각 자치구(2~3개)\n",
        "- x축은 총생산, y축은 인구"
      ],
      "metadata": {
        "id": "fDziM8PWLO8l"
      }
    },
    {
      "cell_type": "code",
      "source": [
        "district2 = '노원구'\n",
        "district3 = '도봉구'\n",
        "# district4 = '용산구'\n",
        "\n",
        "for i in range(2, 26 + 1) :\n",
        "  if df1.loc[i][0] == district2 :\n",
        "    df12 = df1.loc[i].values.tolist()\n",
        "    print(df12[0])\n",
        "    del df12[0]\n",
        "    print(df12)\n",
        "\n",
        "for i in range(2, 26 + 1) :\n",
        "  if df2.loc[i][0] == district2 :\n",
        "    df22 = df2.loc[i].values.tolist()\n",
        "    print(df22[0])\n",
        "    del df22[0]\n",
        "    print(df22)\n",
        "\n",
        "for i in range(2, 26 + 1) :\n",
        "  if df1.loc[i][0] == district3 :\n",
        "    df13 = df1.loc[i].values.tolist()\n",
        "    print(df13[0])\n",
        "    del df13[0]\n",
        "    print(df13)\n",
        "\n",
        "for i in range(2, 26 + 1) :\n",
        "  if df2.loc[i][0] == district3 :\n",
        "    df23 = df2.loc[i].values.tolist()\n",
        "    print(df23[0])\n",
        "    del df23[0]\n",
        "    print(df23)\n",
        "\n",
        "#for i in range(2, 26 + 1) :\n",
        "#  if df1.loc[i][0] == district4 :\n",
        "#    df14 = df1.loc[i].values.tolist()\n",
        "#    print(df14[0])\n",
        "#    del df14[0]\n",
        "#    print(df14)\n",
        "\n",
        "#for i in range(2, 26 + 1) :\n",
        "#  if df2.loc[i][0] == district4 :\n",
        "#    df24 = df2.loc[i].values.tolist()\n",
        "#    print(df24[0])\n",
        "#    del df24[0]\n",
        "#    print(df24)\n",
        "\n",
        "# 산점도 그래프 그리기\n",
        "plt.scatter(df12, df22, c = 'red')\n",
        "plt.scatter(df13, df23, c = 'blue')\n",
        "# plt.scatter(df14, df24)\n",
        "\n",
        "current_values = plt.gca().get_xticks()\n",
        "plt.gca().set_xticklabels(['{:.0f}'.format(x) for x in current_values])\n",
        "plt.xticks(rotation = 45)\n",
        "\n",
        "# 그래프 제목과 축 레이블 설정\n",
        "plt.title('서울 연도별 지역내총생산 및 주민등록인구')\n",
        "plt.xlabel('지역내총생산(백만원)')\n",
        "plt.ylabel('주민등록인구(명)')\n",
        "\n",
        "# 그래프 표시\n",
        "plt.show()"
      ],
      "metadata": {
        "colab": {
          "base_uri": "https://localhost:8080/",
          "height": 690
        },
        "id": "-giZ4iioENz8",
        "outputId": "a6b79b06-eea5-4ee5-ba2f-ebe8dc2c811f"
      },
      "execution_count": 23,
      "outputs": [
        {
          "output_type": "stream",
          "name": "stdout",
          "text": [
            "노원구\n",
            "[4968064, 5254223, 5200159, 5255627, 5399253, 5606176, 5901669, 6239829, 6387713, 6620672, 6438328]\n",
            "노원구\n",
            "[615425, 608062, 600829, 594027, 586056, 578221, 571212, 558075, 548160, 537303, 527032]\n",
            "도봉구\n",
            "[2590667, 2680341, 2730446, 2778965, 2864374, 2906723, 3116564, 3325320, 3352742, 3404872, 3499358]\n",
            "도봉구\n",
            "[370734, 367949, 364454, 360609, 355712, 353241, 350272, 346234, 341649, 335631, 327361]\n"
          ]
        },
        {
          "output_type": "stream",
          "name": "stderr",
          "text": [
            "<ipython-input-23-8a7d688cf3df>:53: UserWarning: FixedFormatter should only be used together with FixedLocator\n",
            "  plt.gca().set_xticklabels(['{:.0f}'.format(x) for x in current_values])\n"
          ]
        },
        {
          "output_type": "display_data",
          "data": {
            "text/plain": [
              "<Figure size 640x480 with 1 Axes>"
            ],
            "image/png": "[encoded data removed]"
          },
          "metadata": {}
        }
      ]
    },
    {
      "cell_type": "markdown",
      "source": [
        "## 3. 산점도(전체)\n",
        "- 데이터: 11개년 모든 자치구\n",
        "- x축은 총생산, y축은 인구"
      ],
      "metadata": {
        "id": "-emWu2ANLXqX"
      }
    },
    {
      "cell_type": "code",
      "source": [
        "import random\n",
        "\n",
        "color = '#' + '%02X' %random.randint(0, 255) + '%02X' %random.randint(0, 255) + '%02X' %random.randint(0, 255)\n",
        "print(color)\n",
        "\n",
        "ca = []\n",
        "\n",
        "for i in range(25) :\n",
        "  ca.append('#' + '%02X' %random.randint(0, 255) + '%02X' %random.randint(0, 255) + '%02X' %random.randint(0, 255))\n",
        "\n",
        "print(ca)"
      ],
      "metadata": {
        "colab": {
          "base_uri": "https://localhost:8080/"
        },
        "id": "heAX3pK5gLCc",
        "outputId": "0fb1a7c7-7580-48e5-ab95-430f77f0fdc5"
      },
      "execution_count": 24,
      "outputs": [
        {
          "output_type": "stream",
          "name": "stdout",
          "text": [
            "#9D2060\n",
            "['#4BB9D4', '#5541B8', '#D83747', '#79D753', '#6F2A34', '#9F6DF8', '#8C2DB5', '#469582', '#4277F4', '#02408A', '#417EEF', '#552A25', '#F7A1B2', '#99B154', '#0E5137', '#7F67D5', '#BF3525', '#B5780A', '#F8D48D', '#456DE4', '#A2B015', '#144D3D', '#01294E', '#87A5FD', '#F888B6']\n"
          ]
        }
      ]
    },
    {
      "cell_type": "code",
      "source": [
        "import matplotlib.pyplot as plt\n",
        "import random\n",
        "\n",
        "ca = []\n",
        "\n",
        "for i in range(25) :\n",
        "  ca.append('#' + '%02X' %random.randint(0, 255) + '%02X' %random.randint(0, 255) + '%02X' %random.randint(0, 255))\n",
        "\n",
        "# 산점도 그래프 그리기\n",
        "for i in range(2, 26 + 1) :\n",
        "  for i1 in range(2, 26 + 1) :\n",
        "    df11 = df1.loc[i].values.tolist()\n",
        "    del df11[0]\n",
        "    df21 = df2.loc[i].values.tolist()\n",
        "    del df21[0]\n",
        "    plt.scatter(df11, df21, c = ca[i - 2])\n",
        "\n",
        "current_values = plt.gca().get_xticks()\n",
        "plt.gca().set_xticklabels(['{:.0f}'.format(x) for x in current_values])\n",
        "plt.xticks(rotation = 45)\n",
        "\n",
        "# 그래프 제목과 축 레이블 설정\n",
        "plt.title('서울 연도별 지역내총생산 및 주민등록인구')\n",
        "plt.xlabel('지역내총생산(백만원)')\n",
        "plt.ylabel('주민등록인구(명)')\n",
        "\n",
        "# 그래프 표시\n",
        "plt.show()"
      ],
      "metadata": {
        "colab": {
          "base_uri": "https://localhost:8080/",
          "height": 549
        },
        "id": "2XxiK1uKWzFf",
        "outputId": "ea5a7e03-2461-4888-fe35-e314210af5dd"
      },
      "execution_count": 25,
      "outputs": [
        {
          "output_type": "stream",
          "name": "stderr",
          "text": [
            "<ipython-input-25-5b63e6dcd8b8>:19: UserWarning: FixedFormatter should only be used together with FixedLocator\n",
            "  plt.gca().set_xticklabels(['{:.0f}'.format(x) for x in current_values])\n"
          ]
        },
        {
          "output_type": "display_data",
          "data": {
            "text/plain": [
              "<Figure size 640x480 with 1 Axes>"
            ],
            "image/png": "[encoded data removed]"
          },
          "metadata": {}
        }
      ]
    }
  ]
}