{
  "nbformat": 4,
  "nbformat_minor": 0,
  "metadata": {
    "colab": {
      "provenance": []
    },
    "kernelspec": {
      "name": "python3",
      "display_name": "Python 3"
    },
    "language_info": {
      "name": "python"
    }
  },
  "cells": [
    {
      "cell_type": "code",
      "execution_count": 4,
      "metadata": {
        "id": "PK3CRVHuzzui"
      },
      "outputs": [],
      "source": [
        "# 202004063 서준하, 202084051 김동현\n",
        "\n",
        "import chardet\n",
        "with open('/content/sample_data/상업업무용(매매)__실거래가_20230516162302.csv', mode='rb') as f :\n",
        "  d = f.readline()\n",
        "# print(chardet.detect(d))\n"
      ]
    },
    {
      "cell_type": "code",
      "source": [],
      "metadata": {
        "id": "unvvz0Re3b34"
      },
      "execution_count": null,
      "outputs": []
    },
    {
      "cell_type": "code",
      "source": [],
      "metadata": {
        "id": "W4iY6-HY3UqF"
      },
      "execution_count": null,
      "outputs": []
    }
  ]
}